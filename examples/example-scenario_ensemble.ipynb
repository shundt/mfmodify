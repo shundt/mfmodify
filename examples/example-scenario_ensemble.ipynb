{
 "cells": [
  {
   "cell_type": "markdown",
   "metadata": {},
   "source": [
    "# Building an ensemble of future baseline scenarios\n",
    "The scenario functions enable users to quickly generate scenarios by reassembling years from the historical data. Reusing past years can offer several advantages:\n",
    "1. It is easier than creating boundary stresses from downscaled climate scenarios.\n",
    "2. It is likely more accurate than ad-hoc models that may not accurately \n",
    "   capture the complex relationship between weather and groundwater stresses.\n",
    "3. Past years are familiar and easier to communicate to stakeholders. For example: \n",
    "   \"here is a scenario in which a water year like 2013 occurs three years in a row\".\n",
    "4. It is easy to generate an ensemble of scenarios.\n",
    "\n",
    "This notebook will demonstrate how one can quickly and easily generate an ensemble\n",
    "of scenarios that can be used as a baseline for a water management scenario. "
   ]
  },
  {
   "cell_type": "code",
   "execution_count": 25,
   "metadata": {},
   "outputs": [],
   "source": [
    "# IMPORT libraries\n",
    "import os\n",
    "import flopy\n",
    "from mfmodify import get_sp_data, scenario_from_repeat_years\n",
    "from mfmodify.utils import get_idomain_df, annual_summary_from_gwf"
   ]
  },
  {
   "cell_type": "markdown",
   "metadata": {},
   "source": [
    "Point to the location of the existing historical model and the directory where we'll save scenarios."
   ]
  },
  {
   "cell_type": "code",
   "execution_count": 11,
   "metadata": {},
   "outputs": [],
   "source": [
    "# INPUT\n",
    "sim_ws_orig = os.path.join('historic_models', 'model_v1-metric')\n",
    "scenario_dir = os.path.join('scenario_tests', 'tvgwfm')\n",
    "n_years = 10"
   ]
  },
  {
   "cell_type": "markdown",
   "metadata": {},
   "source": [
    "Create a few functions "
   ]
  },
  {
   "cell_type": "code",
   "execution_count": 32,
   "metadata": {},
   "outputs": [],
   "source": [
    "def get_spaced_cells(node_cells, ncells):\n",
    "    total_cells = len(node_cells)\n",
    "    step = total_cells / ncells\n",
    "    indices = np.round(np.arange(step/2, total_cells, step)).astype('int')\n",
    "    spaced_cells = (\n",
    "        node_cells\n",
    "        .iloc[indices, :]\n",
    "        .cellid.tolist()\n",
    "    )\n",
    "    return spaced_cells"
   ]
  },
  {
   "cell_type": "markdown",
   "metadata": {},
   "source": [
    "First we'll create a simple scenario by rerunning the final years of the historic period, using the final stress period of the historic solution as the initial condition. We'll add a few head observations spread around the model for comparisons. We'll also remove the oc file so the hds and bud files don't save."
   ]
  },
  {
   "cell_type": "code",
   "execution_count": 5,
   "metadata": {},
   "outputs": [],
   "source": [
    "# load the original gwf model to get the simulation years and to place hdobs\n",
    "# get sim and gwf objects\n",
    "sim_orig = flopy.mf6.MFSimulation.load(sim_ws=sim_ws_orig, verbosity_level=0)\n",
    "gwf_orig = sim_orig.get_model()"
   ]
  },
  {
   "cell_type": "code",
   "execution_count": null,
   "metadata": {},
   "outputs": [
    {
     "data": {
      "application/vnd.microsoft.datawrangler.viewer.v0+json": {
       "columns": [
        {
         "name": "year",
         "rawType": "int32",
         "type": "integer"
        },
        {
         "name": "total_recharge",
         "rawType": "float32",
         "type": "float"
        },
        {
         "name": "total_discharge",
         "rawType": "float32",
         "type": "float"
        },
        {
         "name": "net_storage",
         "rawType": "float32",
         "type": "float"
        }
       ],
       "conversionMethod": "pd.DataFrame",
       "ref": "e1323d9d-6533-4a29-98c0-4440e5405249",
       "rows": [
        [
         "2006",
         "61121836.0",
         "62957696.0",
         "-1835857.5"
        ],
        [
         "2007",
         "60412532.0",
         "65279984.0",
         "-4867452.0"
        ],
        [
         "2008",
         "61004020.0",
         "61700516.0",
         "-696494.25"
        ],
        [
         "2009",
         "64962270.0",
         "61261284.0",
         "3700987.5"
        ],
        [
         "2010",
         "60769560.0",
         "61920100.0",
         "-1150543.2"
        ],
        [
         "2011",
         "62719970.0",
         "61779636.0",
         "940331.0"
        ],
        [
         "2012",
         "62824416.0",
         "63705264.0",
         "-880846.75"
        ],
        [
         "2013",
         "59340544.0",
         "68316424.0",
         "-8975886.0"
        ],
        [
         "2014",
         "65128788.0",
         "66681316.0",
         "-1552525.0"
        ],
        [
         "2015",
         "63429836.0",
         "66973404.0",
         "-3543571.2"
        ]
       ],
       "shape": {
        "columns": 3,
        "rows": 10
       }
      },
      "text/html": [
       "<div>\n",
       "<style scoped>\n",
       "    .dataframe tbody tr th:only-of-type {\n",
       "        vertical-align: middle;\n",
       "    }\n",
       "\n",
       "    .dataframe tbody tr th {\n",
       "        vertical-align: top;\n",
       "    }\n",
       "\n",
       "    .dataframe thead th {\n",
       "        text-align: right;\n",
       "    }\n",
       "</style>\n",
       "<table border=\"1\" class=\"dataframe\">\n",
       "  <thead>\n",
       "    <tr style=\"text-align: right;\">\n",
       "      <th></th>\n",
       "      <th>total_recharge</th>\n",
       "      <th>total_discharge</th>\n",
       "      <th>net_storage</th>\n",
       "    </tr>\n",
       "    <tr>\n",
       "      <th>year</th>\n",
       "      <th></th>\n",
       "      <th></th>\n",
       "      <th></th>\n",
       "    </tr>\n",
       "  </thead>\n",
       "  <tbody>\n",
       "    <tr>\n",
       "      <th>2006</th>\n",
       "      <td>61121836.0</td>\n",
       "      <td>62957696.0</td>\n",
       "      <td>-1835857.50</td>\n",
       "    </tr>\n",
       "    <tr>\n",
       "      <th>2007</th>\n",
       "      <td>60412532.0</td>\n",
       "      <td>65279984.0</td>\n",
       "      <td>-4867452.00</td>\n",
       "    </tr>\n",
       "    <tr>\n",
       "      <th>2008</th>\n",
       "      <td>61004020.0</td>\n",
       "      <td>61700516.0</td>\n",
       "      <td>-696494.25</td>\n",
       "    </tr>\n",
       "    <tr>\n",
       "      <th>2009</th>\n",
       "      <td>64962272.0</td>\n",
       "      <td>61261284.0</td>\n",
       "      <td>3700987.50</td>\n",
       "    </tr>\n",
       "    <tr>\n",
       "      <th>2010</th>\n",
       "      <td>60769560.0</td>\n",
       "      <td>61920100.0</td>\n",
       "      <td>-1150543.25</td>\n",
       "    </tr>\n",
       "    <tr>\n",
       "      <th>2011</th>\n",
       "      <td>62719968.0</td>\n",
       "      <td>61779636.0</td>\n",
       "      <td>940331.00</td>\n",
       "    </tr>\n",
       "    <tr>\n",
       "      <th>2012</th>\n",
       "      <td>62824416.0</td>\n",
       "      <td>63705264.0</td>\n",
       "      <td>-880846.75</td>\n",
       "    </tr>\n",
       "    <tr>\n",
       "      <th>2013</th>\n",
       "      <td>59340544.0</td>\n",
       "      <td>68316424.0</td>\n",
       "      <td>-8975886.00</td>\n",
       "    </tr>\n",
       "    <tr>\n",
       "      <th>2014</th>\n",
       "      <td>65128788.0</td>\n",
       "      <td>66681316.0</td>\n",
       "      <td>-1552525.00</td>\n",
       "    </tr>\n",
       "    <tr>\n",
       "      <th>2015</th>\n",
       "      <td>63429836.0</td>\n",
       "      <td>66973404.0</td>\n",
       "      <td>-3543571.25</td>\n",
       "    </tr>\n",
       "  </tbody>\n",
       "</table>\n",
       "</div>"
      ],
      "text/plain": [
       "      total_recharge  total_discharge  net_storage\n",
       "year                                              \n",
       "2006      61121836.0       62957696.0  -1835857.50\n",
       "2007      60412532.0       65279984.0  -4867452.00\n",
       "2008      61004020.0       61700516.0   -696494.25\n",
       "2009      64962272.0       61261284.0   3700987.50\n",
       "2010      60769560.0       61920100.0  -1150543.25\n",
       "2011      62719968.0       61779636.0    940331.00\n",
       "2012      62824416.0       63705264.0   -880846.75\n",
       "2013      59340544.0       68316424.0  -8975886.00\n",
       "2014      65128788.0       66681316.0  -1552525.00\n",
       "2015      63429836.0       66973404.0  -3543571.25"
      ]
     },
     "execution_count": 9,
     "metadata": {},
     "output_type": "execute_result"
    }
   ],
   "source": [
    "# get an annual summary of the model years from the original model lst file\n",
    "add_sum_orig = annual_summary_from_gwf(gwf_orig)\n",
    "add_sum_orig.tail(n_years)"
   ]
  },
  {
   "cell_type": "code",
   "execution_count": 17,
   "metadata": {},
   "outputs": [],
   "source": [
    "# get the model years and define the initial condition month and year\n",
    "scen_years_base = add_sum_orig.index[-n_years:].values.tolist()\n",
    "ic_mon_year = (12, scen_years_base[-1])\n",
    "# set scenario directory name - calling this scenario 'base'\n",
    "sim_ws_scenbase = os.path.join(scenario_dir, f'base-last_{n_years}_years')"
   ]
  },
  {
   "cell_type": "markdown",
   "metadata": {},
   "source": [
    "We need the hds file to get the initial condition for the scenario. The .gitignore \n",
    "file ignores the large hds and bud files, so we need to run the original model. This \n",
    "example takes 2.5 minutes on my laptop."
   ]
  },
  {
   "cell_type": "code",
   "execution_count": 19,
   "metadata": {},
   "outputs": [
    {
     "data": {
      "text/plain": [
       "(True, [])"
      ]
     },
     "execution_count": 19,
     "metadata": {},
     "output_type": "execute_result"
    }
   ],
   "source": [
    "sim_orig.run_simulation(silent=True)"
   ]
  },
  {
   "cell_type": "markdown",
   "metadata": {},
   "source": [
    "Now we'll create the new simulation object, but we won't create files or run until \n",
    "after we add a hds and remove the oc file."
   ]
  },
  {
   "cell_type": "code",
   "execution_count": null,
   "metadata": {},
   "outputs": [
    {
     "name": "stdout",
     "output_type": "stream",
     "text": [
      "Loading simulation from historic_models\\model_v1-metric\n",
      "generating new simulation with modified sp and timeseries info\n"
     ]
    }
   ],
   "source": [
    "# make a scenario using the scenario builder function\n",
    "sim_scen_base = scenario_from_repeat_years(\n",
    "    sim_ws_orig, # original scenario directory\n",
    "    scen_years_base, # the scenario years to assemble\n",
    "    ic_mon_year, # year and month from original to use as initial conditions\n",
    "    new_sim_ws=sim_ws_scenbase # new model file directory\n",
    ")"
   ]
  },
  {
   "cell_type": "code",
   "execution_count": 24,
   "metadata": {},
   "outputs": [],
   "source": [
    "# get gwf object\n",
    "gwf_scen_base = sim_scen_base.get_model()\n",
    "# remove oc\n",
    "oc = gwf_scen_base.get_package('oc').remove()"
   ]
  },
  {
   "cell_type": "markdown",
   "metadata": {},
   "source": [
    "For head observations, we'll just choose some equally spaced cells around the model"
   ]
  },
  {
   "cell_type": "code",
   "execution_count": null,
   "metadata": {},
   "outputs": [
    {
     "data": {
      "application/vnd.microsoft.datawrangler.viewer.v0+json": {
       "columns": [
        {
         "name": "index",
         "rawType": "int64",
         "type": "integer"
        },
        {
         "name": "nodeid",
         "rawType": "int64",
         "type": "integer"
        },
        {
         "name": "cellid",
         "rawType": "object",
         "type": "unknown"
        },
        {
         "name": "idomain",
         "rawType": "int32",
         "type": "integer"
        },
        {
         "name": "layer",
         "rawType": "int64",
         "type": "integer"
        },
        {
         "name": "row",
         "rawType": "int64",
         "type": "integer"
        },
        {
         "name": "column",
         "rawType": "int64",
         "type": "integer"
        }
       ],
       "conversionMethod": "pd.DataFrame",
       "ref": "27e27427-b67c-49b5-ad73-7b0816a73860",
       "rows": [
        [
         "0",
         "0",
         "(0, 0, 0)",
         "0",
         "0",
         "0",
         "0"
        ],
        [
         "1",
         "1",
         "(0, 0, 1)",
         "0",
         "0",
         "0",
         "1"
        ],
        [
         "2",
         "2",
         "(0, 0, 2)",
         "0",
         "0",
         "0",
         "2"
        ],
        [
         "3",
         "3",
         "(0, 0, 3)",
         "0",
         "0",
         "0",
         "3"
        ],
        [
         "4",
         "4",
         "(0, 0, 4)",
         "0",
         "0",
         "0",
         "4"
        ]
       ],
       "shape": {
        "columns": 6,
        "rows": 5
       }
      },
      "text/html": [
       "<div>\n",
       "<style scoped>\n",
       "    .dataframe tbody tr th:only-of-type {\n",
       "        vertical-align: middle;\n",
       "    }\n",
       "\n",
       "    .dataframe tbody tr th {\n",
       "        vertical-align: top;\n",
       "    }\n",
       "\n",
       "    .dataframe thead th {\n",
       "        text-align: right;\n",
       "    }\n",
       "</style>\n",
       "<table border=\"1\" class=\"dataframe\">\n",
       "  <thead>\n",
       "    <tr style=\"text-align: right;\">\n",
       "      <th></th>\n",
       "      <th>nodeid</th>\n",
       "      <th>cellid</th>\n",
       "      <th>idomain</th>\n",
       "      <th>layer</th>\n",
       "      <th>row</th>\n",
       "      <th>column</th>\n",
       "    </tr>\n",
       "  </thead>\n",
       "  <tbody>\n",
       "    <tr>\n",
       "      <th>0</th>\n",
       "      <td>0</td>\n",
       "      <td>(0, 0, 0)</td>\n",
       "      <td>0</td>\n",
       "      <td>0</td>\n",
       "      <td>0</td>\n",
       "      <td>0</td>\n",
       "    </tr>\n",
       "    <tr>\n",
       "      <th>1</th>\n",
       "      <td>1</td>\n",
       "      <td>(0, 0, 1)</td>\n",
       "      <td>0</td>\n",
       "      <td>0</td>\n",
       "      <td>0</td>\n",
       "      <td>1</td>\n",
       "    </tr>\n",
       "    <tr>\n",
       "      <th>2</th>\n",
       "      <td>2</td>\n",
       "      <td>(0, 0, 2)</td>\n",
       "      <td>0</td>\n",
       "      <td>0</td>\n",
       "      <td>0</td>\n",
       "      <td>2</td>\n",
       "    </tr>\n",
       "    <tr>\n",
       "      <th>3</th>\n",
       "      <td>3</td>\n",
       "      <td>(0, 0, 3)</td>\n",
       "      <td>0</td>\n",
       "      <td>0</td>\n",
       "      <td>0</td>\n",
       "      <td>3</td>\n",
       "    </tr>\n",
       "    <tr>\n",
       "      <th>4</th>\n",
       "      <td>4</td>\n",
       "      <td>(0, 0, 4)</td>\n",
       "      <td>0</td>\n",
       "      <td>0</td>\n",
       "      <td>0</td>\n",
       "      <td>4</td>\n",
       "    </tr>\n",
       "  </tbody>\n",
       "</table>\n",
       "</div>"
      ],
      "text/plain": [
       "   nodeid     cellid  idomain  layer  row  column\n",
       "0       0  (0, 0, 0)        0      0    0       0\n",
       "1       1  (0, 0, 1)        0      0    0       1\n",
       "2       2  (0, 0, 2)        0      0    0       2\n",
       "3       3  (0, 0, 3)        0      0    0       3\n",
       "4       4  (0, 0, 4)        0      0    0       4"
      ]
     },
     "execution_count": 31,
     "metadata": {},
     "output_type": "execute_result"
    }
   ],
   "source": [
    "# get idomain locations as a dataframe (using helper function)\n",
    "idomain_df = get_idomain_df(gwf_scen_base)\n",
    "# get only active cells as options, let's stick to layer 1\n",
    "cells_df = idomain_df.query('idomain==1').query('layer==1')\n",
    "# choose evenly spaced cells (using helper function)\n",
    "obs_cells = get_spaced_cells(cells_df, 6)"
   ]
  },
  {
   "cell_type": "code",
   "execution_count": null,
   "metadata": {},
   "outputs": [],
   "source": []
  }
 ],
 "metadata": {
  "kernelspec": {
   "display_name": "tvswa",
   "language": "python",
   "name": "python3"
  },
  "language_info": {
   "codemirror_mode": {
    "name": "ipython",
    "version": 3
   },
   "file_extension": ".py",
   "mimetype": "text/x-python",
   "name": "python",
   "nbconvert_exporter": "python",
   "pygments_lexer": "ipython3",
   "version": "3.13.1"
  }
 },
 "nbformat": 4,
 "nbformat_minor": 2
}

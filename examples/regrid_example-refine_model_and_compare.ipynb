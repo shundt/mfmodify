{
 "cells": [
  {
   "cell_type": "markdown",
   "metadata": {},
   "source": [
    "# Refine a grid for an existing model and compare results\n",
    "This notebook will demonstrate how to use the function that converts a structured\n",
    "grid MODFLOW 6 model to a vertex grid with quadtree refinement around a user-defined\n",
    "feature. It will also demonstrate how the function handles aquifer properties,\n",
    "specified fluxes, and properties of head-dependent flux boundaries. Budget items\n",
    "will be compared to asses the impact of the refinement scheme on simulated results."
   ]
  },
  {
   "cell_type": "markdown",
   "metadata": {},
   "source": [
    "Import libraries"
   ]
  },
  {
   "cell_type": "code",
   "execution_count": null,
   "metadata": {},
   "outputs": [],
   "source": [
    "# IMPORT\n",
    "import os\n",
    "import numpy as np\n",
    "import matplotlib.pyplot as plt\n",
    "import pandas as pd\n",
    "import geopandas as gpd\n",
    "from shapely.geometry import LineString\n",
    "import flopy\n",
    "from mfmodify import quadtree_refine_dis_gwf\n",
    "from mfmodify.plotting import (\n",
    "    plot_compare_final_vols, \n",
    "    plot_compare_obs_sim, \n",
    "    plot_interpolated_heads)\n",
    "from mfmodify.utils import pak_sp_prop_to_array"
   ]
  },
  {
   "cell_type": "markdown",
   "metadata": {},
   "source": [
    "Set some inputs. \n",
    "refine xys is used to create a very simple line as the feature\n",
    "that the function will refine the grid around. A geopandas geodataframe will be \n",
    "created from these xys. The refinement function accepts a geodataframe that can \n",
    "contain sinlge or multiple point, linestring, or polygon features. \n",
    "refine_level sets the number of times the original grid will be divided into 4 \n",
    "quadrants with quadtree refinement (using gridgen)."
   ]
  },
  {
   "cell_type": "code",
   "execution_count": null,
   "metadata": {},
   "outputs": [],
   "source": [
    "# INPUT\n",
    "sim_ws_orig = os.path.join('historic_models', 'model_v1-metric')\n",
    "sim_ws_new = os.path.join('regrid_tests', 'tvgwfm', 'historic_regrid_same_stresses')\n",
    "refine_xys = [(2275000, 1370000), (2295000, 1390000)]\n",
    "refine_level = 5"
   ]
  },
  {
   "cell_type": "markdown",
   "metadata": {},
   "source": [
    "Load the original simulation and plot the original grid along with the refinement feature (line)."
   ]
  },
  {
   "cell_type": "code",
   "execution_count": null,
   "metadata": {},
   "outputs": [],
   "source": [
    "# BODY\n",
    "# load orignal simulation\n",
    "sim_orig = flopy.mf6.MFSimulation.load(sim_ws=sim_ws_orig, verbosity_level=0)"
   ]
  },
  {
   "cell_type": "code",
   "execution_count": null,
   "metadata": {},
   "outputs": [],
   "source": [
    "# create a refinement geodataframe\n",
    "refine_linestring = LineString(refine_xys)\n",
    "refine_gdf = gpd.GeoDataFrame({'id': ['example_line'], 'geometry': [refine_linestring]})\n",
    "\n",
    "# plot grid and refinement line\n",
    "fig, ax = plt.subplots(1,1, figsize=(7,7))\n",
    "sim_orig.get_model().modelgrid.plot(ax=ax, linewidth=0.5)\n",
    "refine_gdf.plot(ax=ax)"
   ]
  },
  {
   "cell_type": "markdown",
   "metadata": {},
   "source": [
    "Now we'll run the function that will refine the grid around that line. The function returns a flopy simulation object, from which you can then simply write model files and the new model. It is also possible to add new modules or edit existing modules with the simulation object prior to writing and running. For now we'll create the simulation object. The function also returns a dataframe relating the new and old grid cells and a dictionary that locates the refinement feature(s) for all layers on the new grid. \n",
    "\n",
    "This function works by first using gridgen to perform quadtree refinement. It then gets disv parameters from this grid along with a dataframe that maps original and new cells and their relative area. New simulation and groundwater flow model obejcts are created by loading all parameters from each MODFLOW module object, converting any properties or fluxes that should be reduced when a cell is divided, restructuring any that must be defined differently for a disv grid, and then recreating the module objects."
   ]
  },
  {
   "cell_type": "code",
   "execution_count": null,
   "metadata": {},
   "outputs": [],
   "source": [
    "# refine simulation around line\n",
    "sim_new, grid_relate, feature_locs = quadtree_refine_dis_gwf(\n",
    "    sim_orig,\n",
    "    refine_gdf,\n",
    "    refine_level,\n",
    "    sim_ws_new=sim_ws_new\n",
    ")"
   ]
  },
  {
   "cell_type": "markdown",
   "metadata": {},
   "source": [
    "Show a selection from the grid_relate dataframe. The cellid_disu column is unused. Maybe I'll get around to doing a dis to disu converter..."
   ]
  },
  {
   "cell_type": "code",
   "execution_count": null,
   "metadata": {},
   "outputs": [],
   "source": [
    "grid_relate.iloc[1920:1926, :]"
   ]
  },
  {
   "cell_type": "markdown",
   "metadata": {},
   "source": [
    "Show the feature location information. This is a dictionary where each refinement feature is a key (only one in this case) and a dataframe with location information are the items."
   ]
  },
  {
   "cell_type": "code",
   "execution_count": null,
   "metadata": {},
   "outputs": [],
   "source": [
    "feature_locs['example_line'].head()"
   ]
  },
  {
   "cell_type": "markdown",
   "metadata": {},
   "source": [
    "Let's look at what happened to the grid and properties. First, the grid and refinement line."
   ]
  },
  {
   "cell_type": "code",
   "execution_count": null,
   "metadata": {},
   "outputs": [],
   "source": [
    "# plot grid and refinement line\n",
    "fig, ax = plt.subplots(1,1, figsize=(7,7))\n",
    "sim_new.get_model().modelgrid.plot(ax=ax, linewidth=0.25)\n",
    "refine_gdf.plot(ax=ax, linewidth=0.75)"
   ]
  },
  {
   "cell_type": "markdown",
   "metadata": {},
   "source": [
    "Aquifer properties from each original grid cell are assigned to each subdivided cell in the disv grid."
   ]
  },
  {
   "cell_type": "code",
   "execution_count": null,
   "metadata": {},
   "outputs": [],
   "source": [
    "# get flopy plotmapview objects for each model and plot aquifer properties\n",
    "# load models\n",
    "gwf_orig = sim_orig.get_model()\n",
    "gwf_new = sim_new.get_model()\n",
    "# get k arrays for each\n",
    "k_orig = gwf_orig.get_package('npf').k.data\n",
    "k_new = gwf_new.get_package('npf').k.data\n",
    "# create a figure and axes\n",
    "fig, (ax_orig, ax_new) = plt.subplots(1, 2, figsize=(14, 7))\n",
    "# get x and y extents\n",
    "xs, ys = refine_linestring.xy\n",
    "buffer = 3220\n",
    "extent = (min(xs)-buffer, max(xs)+buffer, min(ys)-buffer, max(ys)+buffer)\n",
    "# make plot map view objects\n",
    "pmv_orig = flopy.plot.PlotMapView(gwf_orig, extent=extent, ax=ax_orig)\n",
    "pmv_new = flopy.plot.PlotMapView(gwf_new, extent=extent, ax=ax_new)\n",
    "# plot aquifer properties\n",
    "pmv_orig.plot_array(k_orig)\n",
    "pmv_new.plot_array(k_new)"
   ]
  },
  {
   "cell_type": "markdown",
   "metadata": {},
   "source": [
    "Boundary cells for the new grid are identified in the same way. If a cell had a boundary\n",
    "in the original grid all subdivided cells will also have that boundary. Note that the river\n",
    "in this model is represented with the simple RIV module. This approach for refining boundaries\n",
    "would not work for the SFR package, which requires connection relationships between segments to be defined."
   ]
  },
  {
   "cell_type": "code",
   "execution_count": null,
   "metadata": {},
   "outputs": [],
   "source": [
    "# Shows cells with drain, ghb, and river boundaries\n",
    "# get axes and plotmapviews again\n",
    "fig, (ax_orig, ax_new) = plt.subplots(1, 2, figsize=(14, 7))\n",
    "pmv_orig = flopy.plot.PlotMapView(gwf_orig, extent=extent, ax=ax_orig)\n",
    "pmv_new = flopy.plot.PlotMapView(gwf_new, extent=extent, ax=ax_new)\n",
    "# plot drain locations\n",
    "pmv_orig.plot_bc('DRN', color='#fc8d62')\n",
    "pmv_new.plot_bc('DRN', color='#fc8d62')\n",
    "# plot riv locations\n",
    "pmv_orig.plot_bc('RIV', color='#8da0cb')\n",
    "pmv_new.plot_bc('RIV', color='#8da0cb')\n",
    "# plot ghb locations\n",
    "pmv_orig.plot_bc('GHB', color='#66c2a5')\n",
    "pmv_new.plot_bc('GHB', color='#66c2a5')\n",
    "refine_gdf.plot(ax=ax_orig, linewidth=0.5, color='grey')\n",
    "refine_gdf.plot(ax=ax_new, linewidth=0.7, color='grey')"
   ]
  },
  {
   "cell_type": "markdown",
   "metadata": {},
   "source": [
    "The boundary locations are straightforward. However, the refinement function also attempts to scale any property or flow that is area-dependent. Each of the boundaries above have a conductance property that is in theory proportional to the cross sectional boundary area. Even with this scaling, the head-dependent boundaries fluxes are likely to differ from the original model as horizontal distances - and therefore horizontal gradients - between boundary and adjacent cells are different. \n",
    "Let's see how the drain conductance property was adjusted."
   ]
  },
  {
   "cell_type": "code",
   "execution_count": null,
   "metadata": {},
   "outputs": [],
   "source": [
    "# Shows cells with drain, ghb, and river boundaries\n",
    "# get axes and plotmapviews again\n",
    "# fig, (ax_orig, ax_new) = plt.subplots(1, 2, figsize=(14, 7))\n",
    "# pmv_orig = flopy.plot.PlotMapView(gwf_orig, extent=extent, ax=ax_orig)\n",
    "# pmv_new = flopy.plot.PlotMapView(gwf_new, extent=extent, ax=ax_new)\n",
    "# get conductance\n",
    "drn_c_orig = pak_sp_prop_to_array(gwf_orig.get_package('drn'), 'cond', grid_relate, sp=0)\n",
    "drn_c_new = pak_sp_prop_to_array(gwf_new.get_package('drn'), 'cond', grid_relate, sp=0)\n",
    "# get axes and plotmapviews again\n",
    "fig, (ax_orig, ax_new) = plt.subplots(1, 2, figsize=(14, 7))\n",
    "pmv_orig = flopy.plot.PlotMapView(gwf_orig, extent=extent, ax=ax_orig)\n",
    "pmv_new = flopy.plot.PlotMapView(gwf_new, extent=extent, ax=ax_new)\n",
    "# plot drain locations\n",
    "pmv_orig.plot_array(drn_c_orig)\n",
    "pmv_new.plot_array(drn_c_new)\n",
    "# plot line\n",
    "refine_gdf.plot(ax=ax_orig, linewidth=0.5, color='grey')\n",
    "refine_gdf.plot(ax=ax_new, linewidth=0.7, color='grey')"
   ]
  },
  {
   "cell_type": "markdown",
   "metadata": {},
   "source": [
    "Specified fluxes are easier. The fluxes in each cell are allocated to each new cell in proportion to their area. If a time-series is used, the multiplier value for the cell will be scaled in proprt to the area. These specified fluxes should match almost perfectly with the original model. I won't plot any examples of these, but they should be the same idea as the plot above."
   ]
  },
  {
   "cell_type": "markdown",
   "metadata": {},
   "source": [
    "Run the model so we can compare output."
   ]
  },
  {
   "cell_type": "code",
   "execution_count": null,
   "metadata": {},
   "outputs": [],
   "source": [
    "sim_new.write_simulation(silent=True)\n",
    "sim_new.run_simulation(silent=True)"
   ]
  },
  {
   "cell_type": "markdown",
   "metadata": {},
   "source": [
    "Compare the coarse-scale total volumes"
   ]
  },
  {
   "cell_type": "code",
   "execution_count": null,
   "metadata": {},
   "outputs": [],
   "source": [
    "# Compare the final list entries as bar charts for each type (using helper function)\n",
    "fig = plot_compare_final_vols(gwf_orig, gwf_new, names=['dis', 'disv'])"
   ]
  },
  {
   "cell_type": "markdown",
   "metadata": {},
   "source": [
    "Compare observation file output. Most are nearly identical, but differences can be seen in the drn, ghb (Lowell), and especially the riv observation groups that the refinement feature passes through."
   ]
  },
  {
   "cell_type": "code",
   "execution_count": null,
   "metadata": {},
   "outputs": [],
   "source": [
    "# make plots of all\n",
    "plot_compare_obs_sim(sim_ws_orig, sim_ws_new, names=['dis', 'disv'])"
   ]
  },
  {
   "cell_type": "markdown",
   "metadata": {},
   "source": [
    "Lets compare the final heads in layer 1 along the refinement line. There is a noticable difference on the left side where a dramatic gradient (and some flooded cells) appear in both versions of the model. The head remains elevated for a greater distance in the disv model. Note that the jagged pattern for the dis model on the right side is simply because the refinement line slices diagonally through the grid. A refinement line along a row or column would not result in such an oscillating pattern."
   ]
  },
  {
   "cell_type": "code",
   "execution_count": null,
   "metadata": {},
   "outputs": [],
   "source": [
    "fig, ax = plt.subplots(1,1, figsize=(10, 7.5))\n",
    "cmap=plt.get_cmap('tab10')\n",
    "surf_orig = plot_interpolated_heads(gwf_orig, refine_xys, ax, linewidth=1.5, label='dis', color=cmap(0), grid=False)\n",
    "surf_new = plot_interpolated_heads(gwf_new, refine_xys, ax, linewidth=1.5, label='disv', color=cmap(1), grid=False)\n",
    "ax.set_ylim(680, 760)\n",
    "ax.legend()"
   ]
  }
 ],
 "metadata": {
  "kernelspec": {
   "display_name": "tvswa",
   "language": "python",
   "name": "python3"
  },
  "language_info": {
   "codemirror_mode": {
    "name": "ipython",
    "version": 3
   },
   "file_extension": ".py",
   "mimetype": "text/x-python",
   "name": "python",
   "nbconvert_exporter": "python",
   "pygments_lexer": "ipython3",
   "version": "3.13.1"
  }
 },
 "nbformat": 4,
 "nbformat_minor": 2
}

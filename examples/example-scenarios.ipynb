{
 "cells": [
  {
   "cell_type": "markdown",
   "metadata": {},
   "source": [
    "# Building many future baseline scenarios\n",
    "The scenario functions enable users to quickly generate scenarios by reassembling years from the historical data. Reusing past years can offer several advantages:\n",
    "1. It is easier than creating boundary stresses from downscaled climate scenarios.\n",
    "2. It is likely more accurate than ad-hoc models that may not accurately \n",
    "   capture the complex relationship between weather and groundwater stresses.\n",
    "3. Past years are familiar and easier to communicate to stakeholders. For example: \n",
    "   \"here is a scenario in which a water year like 2013 occurs three years in a row\".\n",
    "4. It is easy to generate an ensemble of scenarios.\n",
    "\n",
    "This notebook will demonstrate how one can quickly and easily generate many future\n",
    "scenarios that can be used as baselines for a water management scenario. "
   ]
  },
  {
   "cell_type": "markdown",
   "metadata": {},
   "source": [
    "### 1 - Setup"
   ]
  },
  {
   "cell_type": "code",
   "execution_count": null,
   "metadata": {},
   "outputs": [],
   "source": [
    "# IMPORT libraries\n",
    "import os\n",
    "import numpy as np\n",
    "import matplotlib.pyplot as plt\n",
    "import pandas as pd\n",
    "import flopy\n",
    "from mfmodify import scenario_from_repeat_years, scenario_from_weighted_mean_of_years\n",
    "from mfmodify.scenario import manual_reweight_series\n",
    "from mfmodify.utils import get_idomain_df, annual_summary_from_gwf, add_new_hdobs"
   ]
  },
  {
   "cell_type": "markdown",
   "metadata": {},
   "source": [
    "Point to the location of the existing historical model and the directory where we'll save scenarios."
   ]
  },
  {
   "cell_type": "code",
   "execution_count": null,
   "metadata": {},
   "outputs": [],
   "source": [
    "# INPUT\n",
    "sim_ws_orig = os.path.join('historic_models', 'model_v1-metric')\n",
    "scenario_dir = os.path.join('scenario_tests', 'tvgwfm')\n",
    "n_years = 10"
   ]
  },
  {
   "cell_type": "markdown",
   "metadata": {},
   "source": [
    "Create a few functions "
   ]
  },
  {
   "cell_type": "code",
   "execution_count": null,
   "metadata": {},
   "outputs": [],
   "source": [
    "def get_spaced_cells(node_cells, ncells):\n",
    "    total_cells = len(node_cells)\n",
    "    step = total_cells / ncells\n",
    "    indices = np.round(np.arange(step/2, total_cells, step)).astype('int')\n",
    "    spaced_cells = (\n",
    "        node_cells\n",
    "        .iloc[indices, :]\n",
    "        .cellid.tolist()\n",
    "    )\n",
    "    return spaced_cells\n",
    "\n",
    "def plot_ann_summary_bars(ann_df, figsize=(7.5, 10)):\n",
    "    fig, axes = plt.subplots(ann_df.shape[1],1,figsize=figsize)\n",
    "    for colname, ax in zip(ann_df.columns, axes):\n",
    "        ann_df.loc[:, colname].plot(ax=ax, kind='bar', width=0.9, color='grey')\n",
    "        ax.set_xlabel('')\n",
    "        ax.set_ylabel(colname)\n",
    "        ax.set_title(colname.split('_')[-1])\n",
    "    fig.tight_layout()\n",
    "    return fig"
   ]
  },
  {
   "cell_type": "markdown",
   "metadata": {},
   "source": [
    "### 2. Create simple scenario from last years of historic period \n",
    "First we'll create a simple scenario (named 'base') by rerunning the final years of the historic period, using the final stress period of the historic solution as the initial condition. We'll add a few head observations spread around the model for comparisons. We'll also remove the oc file so the hds and bud files don't save."
   ]
  },
  {
   "cell_type": "code",
   "execution_count": null,
   "metadata": {},
   "outputs": [],
   "source": [
    "# load the original gwf model to get the simulation years and to place hdobs\n",
    "# get sim and gwf objects\n",
    "sim_orig = flopy.mf6.MFSimulation.load(sim_ws=sim_ws_orig, verbosity_level=0)\n",
    "gwf_orig = sim_orig.get_model()"
   ]
  },
  {
   "cell_type": "code",
   "execution_count": null,
   "metadata": {},
   "outputs": [],
   "source": [
    "# get an annual summary of the model years from the original model lst file\n",
    "add_sum_orig = annual_summary_from_gwf(gwf_orig)\n",
    "add_sum_orig.tail(n_years)"
   ]
  },
  {
   "cell_type": "code",
   "execution_count": null,
   "metadata": {},
   "outputs": [],
   "source": [
    "# get the model years and define the initial condition month and year\n",
    "scen_years_base = add_sum_orig.index[-n_years:].values.tolist()\n",
    "ic_mon_year = (12, scen_years_base[-1])\n",
    "# set scenario directory name - calling this scenario 'base'\n",
    "sim_ws_scenbase = os.path.join(scenario_dir, f'base-last_{n_years}_years')"
   ]
  },
  {
   "cell_type": "markdown",
   "metadata": {},
   "source": [
    "We need the hds file to get the initial condition for the scenario. The .gitignore \n",
    "file ignores the large hds and bud files, so we need to run the original model. This \n",
    "example takes 2.5 minutes on my laptop."
   ]
  },
  {
   "cell_type": "code",
   "execution_count": null,
   "metadata": {},
   "outputs": [],
   "source": [
    "sim_orig.run_simulation(silent=True)"
   ]
  },
  {
   "cell_type": "markdown",
   "metadata": {},
   "source": [
    "Now we'll create the new simulation object, but we won't create files or run until \n",
    "after we add a hds and remove the oc file."
   ]
  },
  {
   "cell_type": "code",
   "execution_count": null,
   "metadata": {},
   "outputs": [],
   "source": [
    "# make a scenario using the scenario builder function\n",
    "sim_scen_base = scenario_from_repeat_years(\n",
    "    sim_ws_orig, # original scenario directory\n",
    "    scen_years_base, # the scenario years to assemble\n",
    "    ic_mon_year, # year and month from original to use as initial conditions\n",
    "    new_sim_ws=sim_ws_scenbase # new model file directory\n",
    ")"
   ]
  },
  {
   "cell_type": "code",
   "execution_count": null,
   "metadata": {},
   "outputs": [],
   "source": [
    "# get gwf object\n",
    "gwf_scen_base = sim_scen_base.get_model()\n",
    "# remove oc\n",
    "oc = gwf_scen_base.get_package('oc').remove()"
   ]
  },
  {
   "cell_type": "markdown",
   "metadata": {},
   "source": [
    "For head observations, we'll just choose some equally spaced cells around the model"
   ]
  },
  {
   "cell_type": "code",
   "execution_count": null,
   "metadata": {},
   "outputs": [],
   "source": [
    "# get idomain locations as a dataframe (using helper function)\n",
    "idomain_df = get_idomain_df(gwf_scen_base)\n",
    "# get only active cells as options, let's stick to layer 1\n",
    "cells_df = idomain_df.query('idomain==1').query('layer==1')\n",
    "# choose evenly spaced cells (using helper function)\n",
    "obs_cells = get_spaced_cells(cells_df, 6)\n",
    "# make a hdobs continuous record\n",
    "hdobs_continuous = {\n",
    "    'hdobs.csv': \n",
    "    [[f'hdobs{i}', 'head', cellid] for i, cellid in enumerate(obs_cells)]\n",
    "}\n",
    "# add the new hdobs to the gwf object\n",
    "add_new_hdobs(gwf_scen_base, hdobs_continuous)"
   ]
  },
  {
   "cell_type": "markdown",
   "metadata": {},
   "source": [
    "Now we can write files and run the model. Takes about 1 minute on my laptop."
   ]
  },
  {
   "cell_type": "code",
   "execution_count": null,
   "metadata": {},
   "outputs": [],
   "source": [
    "sim_scen_base.write_simulation(silent=True)\n",
    "sim_scen_base.run_simulation(silent=True)"
   ]
  },
  {
   "cell_type": "markdown",
   "metadata": {},
   "source": [
    "Some simple hdobs plots"
   ]
  },
  {
   "cell_type": "code",
   "execution_count": null,
   "metadata": {},
   "outputs": [],
   "source": [
    "# load to dataframe\n",
    "hdobs_out = os.path.join(sim_ws_scenbase, 'hdobs.csv')\n",
    "hdobs_base_df = pd.read_csv(hdobs_out).set_index('time')\n",
    "for obsnm in hdobs_base_df.columns:\n",
    "    fig,ax = plt.subplots(1,1,figsize=(10,1))\n",
    "    hdobs_base_df.loc[:, obsnm].plot(ax=ax, title=obsnm, color='black', label='base')\n",
    "    ax.set_xlabel('')\n",
    "    ax.set_ylabel('head (m)')"
   ]
  },
  {
   "cell_type": "markdown",
   "metadata": {},
   "source": [
    "### 3. Look at historic years recharge, discharge, and storage\n",
    "There is weather-driven variability in the recharge, discharge, and storage during the historic years.\n",
    "We can pull the list file budget to look at the distribution of years in the entire historic period and the final years. This is informative and can also use this to construct scenario\n",
    "that have a higher probability of wetness, dryness, or whatever if we wish to explore\n",
    "climate-related impacts. "
   ]
  },
  {
   "cell_type": "code",
   "execution_count": null,
   "metadata": {},
   "outputs": [],
   "source": [
    "# load the annual budget summary from list file (using helper function)\n",
    "ann_scen_orig =annual_summary_from_gwf(gwf_orig)\n",
    "ann_scen_orig.tail()"
   ]
  },
  {
   "cell_type": "code",
   "execution_count": null,
   "metadata": {},
   "outputs": [],
   "source": [
    "# plot for entire and final years\n",
    "fig = plot_ann_summary_bars(ann_scen_orig, figsize=(7.5, 5))\n",
    "fig = plot_ann_summary_bars(ann_scen_orig.iloc[-n_years:, :], figsize=(7.5, 5))"
   ]
  },
  {
   "cell_type": "markdown",
   "metadata": {},
   "source": [
    "### 4. Create a scenario with 10 averaged years\n",
    "This is a slight diversion just to show another mfmodify scenario function will \n",
    "create composite years as weighted averages of historic years. We'll just create \n",
    "a simulation that is the same length as the base above, but with the same averaged\n",
    "years repeated."
   ]
  },
  {
   "cell_type": "code",
   "execution_count": null,
   "metadata": {},
   "outputs": [],
   "source": [
    "# Create a list of list of tuples to define the year weights. \n",
    "# Each inner list is a simulation year. The tuples in the list contain a year \n",
    "# and the relative weight of that year. All the years in the tuples for an inner \n",
    "# list item will be combined to create the inputs for that simulation year.\n",
    "scen_years_and_weights = [[(yr, 1) for yr in scen_years_base]]*n_years\n",
    "# create scenario object\n",
    "sim_ws_scenavg = os.path.join(scenario_dir, f'base-avg_last_{n_years}_years')\n",
    "sim_scenavg = scenario_from_weighted_mean_of_years(\n",
    "    sim_ws_orig, \n",
    "    scen_years_and_weights,    \n",
    "    ic_mon_year,\n",
    "    new_sim_ws=sim_ws_scenavg\n",
    ")\n",
    "gwf_scenavg = sim_scenavg.get_model()\n",
    "# add headobs using the hdobs continuous already made above\n",
    "_ = add_new_hdobs(gwf_scenavg, hdobs_continuous)\n",
    "# write and run\n",
    "sim_scenavg.write_simulation(silent=True)\n",
    "sim_scenavg.run_simulation(silent=True)"
   ]
  },
  {
   "cell_type": "markdown",
   "metadata": {},
   "source": [
    "Let's look at the headobs alongside the base scenario. We can also plot an annual\n",
    "summary to see that each year is the same."
   ]
  },
  {
   "cell_type": "code",
   "execution_count": null,
   "metadata": {},
   "outputs": [],
   "source": [
    "# Load headobs and plot with base\n",
    "hdobs_out = os.path.join(sim_ws_scenavg, 'hdobs.csv')\n",
    "hdobs_avg_df = pd.read_csv(hdobs_out).set_index('time')\n",
    "# plot\n",
    "for obsnm in hdobs_avg_df.columns:\n",
    "    fig,ax = plt.subplots(1,1,figsize=(10,1))\n",
    "    hdobs_avg_df.loc[:, obsnm].plot(ax=ax, color='red', label='avg')\n",
    "    hdobs_base_df.loc[:, obsnm].plot(ax=ax, title=obsnm, color='black', label='base')\n",
    "    ax.set_xlabel('')\n",
    "    ax.set_ylabel('head (m)')\n",
    "    ax.legend()"
   ]
  },
  {
   "cell_type": "code",
   "execution_count": null,
   "metadata": {},
   "outputs": [],
   "source": [
    "# load and plot annual summary\n",
    "ann_scen_avg =annual_summary_from_gwf(gwf_scenavg)\n",
    "fig = plot_ann_summary_bars(ann_scen_avg, figsize=(7.5, 5))"
   ]
  },
  {
   "cell_type": "markdown",
   "metadata": {},
   "source": [
    "### 5. Run many randomly assembled scenarios\n",
    "The years of the historic period can be randomly sampled to create scenarios with\n",
    "different patterns of weather-driven recharge and discharge. We can sample with \n",
    "replacement and also adjust the relative probability of drawing wet/dry years. Below\n",
    "we'll generate scenarios where the drier 1/2 of years are 2x as likely to occur than\n",
    "they did historically."
   ]
  },
  {
   "cell_type": "markdown",
   "metadata": {},
   "source": [
    "Do weighted sampling simply by creating duplicates in the list of years"
   ]
  },
  {
   "cell_type": "code",
   "execution_count": null,
   "metadata": {},
   "outputs": [],
   "source": [
    "# get a series of final years annual summaries of storage as a proxy for wet/dry\n",
    "ann_stor_orig = ann_scen_orig.iloc[-n_years:, :].net_storage\n",
    "# set the desired relative weights of the years \n",
    "relative_weights = [2, 1]\n",
    "# get list of years with duplicates to alter relative probabilities (helper function)\n",
    "reweighted_years = (\n",
    "    manual_reweight_series(ann_stor_orig, relative_weights)\n",
    "    .sort_index()\n",
    "    .index\n",
    "    .to_list()\n",
    ")\n",
    "print(reweighted_years)"
   ]
  },
  {
   "cell_type": "markdown",
   "metadata": {},
   "source": [
    "Draw 10 random samples of years for scenarios"
   ]
  },
  {
   "cell_type": "code",
   "execution_count": null,
   "metadata": {},
   "outputs": [],
   "source": [
    "# Draw random samples \n",
    "from random import choices\n",
    "scen_years_list = [choices(reweighted_years, k=n_years) for i in range(10)]\n",
    "print(scen_years_list)"
   ]
  },
  {
   "cell_type": "markdown",
   "metadata": {},
   "source": [
    "Create and run all 10 scenarios. This takes about 16 minutes on my laptop."
   ]
  },
  {
   "cell_type": "code",
   "execution_count": null,
   "metadata": {},
   "outputs": [],
   "source": [
    "# Loop over all lists of years\n",
    "for i, iscen_years in enumerate(scen_years_list):\n",
    "    isim_ws = os.path.join(scenario_dir, f'rand_{n_years}_years_{i}')\n",
    "    isim_scen = scenario_from_repeat_years(\n",
    "        sim_ws_orig, \n",
    "        iscen_years,\n",
    "        ic_mon_year,\n",
    "        new_sim_ws=isim_ws\n",
    "    )\n",
    "    igwf_scen = isim_scen.get_model()\n",
    "    # add headobs using the hdobs continuous already made above\n",
    "    _ = add_new_hdobs(igwf_scen, hdobs_continuous)\n",
    "    # write and run\n",
    "    isim_scen.write_simulation(silent=True)\n",
    "    isim_scen.run_simulation(silent=True)"
   ]
  },
  {
   "cell_type": "markdown",
   "metadata": {},
   "source": [
    "Load and plot all of the headobs together"
   ]
  },
  {
   "cell_type": "code",
   "execution_count": null,
   "metadata": {},
   "outputs": [],
   "source": [
    "# Load headobs and plot with base\n",
    "hdobs_df_list = []\n",
    "for i in range(10):\n",
    "    isim_ws = os.path.join(scenario_dir, f'rand_{n_years}_years_{i}')\n",
    "    ihdobs_out = os.path.join(isim_ws, 'hdobs.csv')\n",
    "    ihdobs_avg_df = pd.read_csv(ihdobs_out).set_index('time')\n",
    "    hdobs_df_list.append(ihdobs_avg_df)\n",
    "# plot\n",
    "cmap = plt.get_cmap('Set2')\n",
    "colors = [cmap(i/len(hdobs_df_list)) for i in range(len(hdobs_df_list))]\n",
    "for obsnm in hdobs_avg_df.columns:\n",
    "    fig,ax = plt.subplots(1,1,figsize=(10,2.5))\n",
    "    for i, ihdobs_df in enumerate(hdobs_df_list):\n",
    "        ihdobs_df.loc[:, obsnm].plot(ax=ax, label=None, color=colors[i], alpha=0.8)\n",
    "    hdobs_avg_df.loc[:, obsnm].plot(ax=ax, color='red', label='avg')\n",
    "    hdobs_base_df.loc[:, obsnm].plot(ax=ax, title=obsnm, color='black', label='base')\n",
    "    ax.set_xlabel('')\n",
    "    ax.set_ylabel('head (m)')"
   ]
  },
  {
   "cell_type": "code",
   "execution_count": null,
   "metadata": {},
   "outputs": [],
   "source": []
  }
 ],
 "metadata": {
  "kernelspec": {
   "display_name": "tvswa",
   "language": "python",
   "name": "python3"
  },
  "language_info": {
   "codemirror_mode": {
    "name": "ipython",
    "version": 3
   },
   "file_extension": ".py",
   "mimetype": "text/x-python",
   "name": "python",
   "nbconvert_exporter": "python",
   "pygments_lexer": "ipython3",
   "version": "3.13.1"
  }
 },
 "nbformat": 4,
 "nbformat_minor": 2
}
